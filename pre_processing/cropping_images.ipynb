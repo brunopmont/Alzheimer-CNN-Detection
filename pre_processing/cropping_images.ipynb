{
 "cells": [
  {
   "cell_type": "code",
   "execution_count": 3,
   "metadata": {},
   "outputs": [],
   "source": [
    "import os\n",
    "import nibabel as nib\n",
    "import matplotlib.pyplot as plt"
   ]
  },
  {
   "cell_type": "code",
   "execution_count": 4,
   "metadata": {},
   "outputs": [],
   "source": [
    "# Índices de corte para o corte NIfTI\n",
    "SLICE_NII_IDX0 = slice(24, 169)\n",
    "SLICE_NII_IDX1 = slice(24, 206)\n",
    "SLICE_NII_IDX2 = slice(6, 161)"
   ]
  },
  {
   "cell_type": "code",
   "execution_count": null,
   "metadata": {},
   "outputs": [],
   "source": [
    "base = ''\n",
    "for subset in os.listdir(base):\n",
    "    dir = os.path.join(base, subset)\n",
    "    for name in os.listdir(dir):\n",
    "        file = os.path.join(dir, name)\n",
    "        image = nib.load(file)\n",
    "        data = image.get_fdata()\n",
    "        print(f\"shape da imagem {name} original: {data.shape}\")\n",
    "        data_cropped = data[SLICE_NII_IDX0, SLICE_NII_IDX1, SLICE_NII_IDX2]\n",
    "        print(f\"shape da imagem {name} cortada: {data_cropped.shape}\\n\\n\")\n",
    "        # Criar um novo objeto NIfTI com o corte\n",
    "        nifti_cropped = nib.Nifti1Image(data_cropped, image.affine, image.header)\n",
    "        \n",
    "        # Salvar no mesmo arquivo (sobrescrevendo)\n",
    "        nib.save(nifti_cropped, file)"
   ]
  },
  {
   "cell_type": "code",
   "execution_count": null,
   "metadata": {},
   "outputs": [],
   "source": [
    "base = 'train'\n",
    "subset = 'ad'\n",
    "dir = os.path.join(base, subset)\n",
    "for name in os.listdir(dir):\n",
    "    file = os.path.join(dir, name)\n",
    "    image = nib.load(file)\n",
    "    data = image.get_fdata()\n",
    "\n",
    "    print(f\"Imagem: {file}\")\n",
    "    # Plotar um corte no eixo axial (por exemplo, no meio da terceira dimensão)\n",
    "    slice_idx = 80  # Índice do corte no meio\n",
    "    plt.imshow(data[:, :, slice_idx], cmap='gray')\n",
    "    plt.title(f\"Corte axial no índice {slice_idx}\")\n",
    "    plt.colorbar()\n",
    "    plt.show()"
   ]
  }
 ],
 "metadata": {
  "kernelspec": {
   "display_name": "Python 3",
   "language": "python",
   "name": "python3"
  },
  "language_info": {
   "codemirror_mode": {
    "name": "ipython",
    "version": 3
   },
   "file_extension": ".py",
   "mimetype": "text/x-python",
   "name": "python",
   "nbconvert_exporter": "python",
   "pygments_lexer": "ipython3",
   "version": "3.12.7"
  }
 },
 "nbformat": 4,
 "nbformat_minor": 2
}
