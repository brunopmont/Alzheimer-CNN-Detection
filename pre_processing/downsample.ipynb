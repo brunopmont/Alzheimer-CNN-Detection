{
 "cells": [
  {
   "cell_type": "code",
   "execution_count": 1,
   "metadata": {},
   "outputs": [],
   "source": [
    "import os\n",
    "import shutil\n",
    "import random\n",
    "from math import ceil, floor\n",
    "\n",
    "def explore_folder(directory, string):\n",
    "    paths =  []\n",
    "    for item in os.listdir(directory):\n",
    "        folder = os.path.join(directory, item, 'ADNI')\n",
    "        for subject in os.listdir(folder):\n",
    "            patient = os.path.join(folder, subject, string)\n",
    "            for date in os.listdir(patient):\n",
    "                exam = os.path.join(patient, date)\n",
    "                for file in os.listdir(exam):\n",
    "                    file_path = os.path.join(exam, file)\n",
    "                    paths.append(file_path)\n",
    "    return paths"
   ]
  },
  {
   "cell_type": "code",
   "execution_count": null,
   "metadata": {},
   "outputs": [],
   "source": [
    "base = 'MPRAGE'\n",
    "classification = 'ad' \n",
    "directory = os.path.join(base, classification)\n",
    "\n",
    "paths = []\n",
    "empty_subjects = 0\n",
    "empty_exams = 0\n",
    "\n",
    "paths = explore_folder(directory, 'MPRAGE')\n",
    "\n",
    "print(paths)\n",
    "\n",
    "print(f\"Total de arquivos: {len(paths)}\")\n",
    "print(f\"Total de exames vazias: {empty_exams}\")\n",
    "print(f\"Total de pacientes vazias: {empty_subjects}\")"
   ]
  },
  {
   "cell_type": "code",
   "execution_count": null,
   "metadata": {},
   "outputs": [],
   "source": [
    "total_paths = len(paths)\n",
    "\n",
    "target_count = 735\n",
    "\n",
    "random.shuffle(paths)\n",
    "\n",
    "# Remover até que a lista tenha target_count itens\n",
    "while total_paths > target_count:\n",
    "    path_to_remove = paths.pop()\n",
    "\n",
    "    #shutil.rmtree(path_to_remove)  # Remove o diretório (com seus conteúdos)\n",
    "    print(f\"Pasta removida: {path_to_remove}\")\n",
    "    \n",
    "    total_paths -= 1  # Decrementa a quantidade de arquivos/pastas removidos\n",
    "\n",
    "# Agora, a lista de paths deve ter 539 itens restantes\n",
    "print(f\"Restando {len(paths)} arquivos/pastas.\")\n"
   ]
  },
  {
   "cell_type": "code",
   "execution_count": null,
   "metadata": {},
   "outputs": [],
   "source": [
    "group = 'ad' #cn, emci, mci, lmci, ad\n",
    "cont = 0\n",
    "\n",
    "train_folder = os.path.join('conjuntos', 'train', group)\n",
    "val_folder = os.path.join('conjuntos', 'validation', group)\n",
    "test_folder = os.path.join('conjuntos', 'test', group)\n",
    "\n",
    "mp_dir = os.path.join('MPRAGE', group)\n",
    "sense_dir = os.path.join('SENSE2', group)\n",
    "\n",
    "train_paths = []\n",
    "val_paths = []\n",
    "test_paths = []\n",
    "\n",
    "mp_paths = explore_folder(mp_dir, 'MPRAGE')\n",
    "sense_paths = explore_folder(sense_dir, 'MPRAGE_SENSE2')\n",
    "full_paths = mp_paths + sense_paths\n",
    "\n",
    "n = len(full_paths)\n",
    "train = floor(n*0.7)\n",
    "validation = floor(n*0.2)\n",
    "test = floor(n*0.1)\n",
    "\n",
    "print(f\"full: {n}\\ntrain (70): {train}\\nvalidation (20): {validation}\\ntest (10): {test}\\nsoma: {train+validation+test}\\n\\n\")\n",
    "\n",
    "for path in full_paths:\n",
    "    if cont < train:\n",
    "        cont += 1\n",
    "        train_paths.append(path)\n",
    "    elif cont < train+validation:\n",
    "        cont += 1\n",
    "        val_paths.append(path)\n",
    "    else:\n",
    "        test_paths.append(path)\n",
    "\n",
    "print(f\"train (70): {len(train_paths)}\\nvalidation (20): {len(val_paths)}\\ntest (10): {len(test_paths)}\\nsoma: {len(train_paths)+len(val_paths)+len(test_paths)}\\n\\n\")\n",
    "\n",
    "for item in train_paths:\n",
    "    shutil.copytree(item, os.path.join(train_folder, os.path.basename(item)))\n",
    "for item in val_paths:\n",
    "    shutil.copytree(item, os.path.join(val_folder, os.path.basename(item)))\n",
    "for item in test_paths:\n",
    "    shutil.copytree(item, os.path.join(test_folder, os.path.basename(item)))"
   ]
  }
 ],
 "metadata": {
  "kernelspec": {
   "display_name": "Python 3",
   "language": "python",
   "name": "python3"
  },
  "language_info": {
   "codemirror_mode": {
    "name": "ipython",
    "version": 3
   },
   "file_extension": ".py",
   "mimetype": "text/x-python",
   "name": "python",
   "nbconvert_exporter": "python",
   "pygments_lexer": "ipython3",
   "version": "3.12.7"
  }
 },
 "nbformat": 4,
 "nbformat_minor": 2
}
