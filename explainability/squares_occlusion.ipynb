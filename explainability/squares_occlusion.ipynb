{
 "cells": [
  {
   "cell_type": "code",
   "execution_count": 71,
   "metadata": {},
   "outputs": [],
   "source": [
    "import numpy as np\n",
    "import tensorflow as tf\n",
    "import matplotlib.pyplot as plt\n",
    "import nibabel as nib\n",
    "import os\n",
    "import ants"
   ]
  },
  {
   "cell_type": "markdown",
   "metadata": {},
   "source": [
    "##### FUNÇÃO DE OCLUSÃO"
   ]
  },
  {
   "cell_type": "code",
   "execution_count": null,
   "metadata": {},
   "outputs": [],
   "source": [
    "def occlusion_sensitivity(model, image, block_size=(15, 15, 3), stride=8):\n",
    "    \"\"\"\n",
    "    Realiza a oclusão em blocos 3D e mede o impacto na predição.\n",
    "\n",
    "    :param model: Modelo CNN 3D treinado (TensorFlow/Keras)\n",
    "    :param image: Tensor da MRI com shape (1, 145, 182, 7, 1)\n",
    "    :param block_size: Tamanho do bloco de oclusão (altura, largura, profundidade)\n",
    "    :param stride: Passo para deslizar o bloco\n",
    "    :return: Heatmap de importância das regiões\n",
    "    \"\"\"\n",
    "    \n",
    "    image = tf.convert_to_tensor(image, dtype=tf.float32)\n",
    "    \n",
    "    # Predição original\n",
    "    original_pred = model(image, training=False).numpy()[0, 1]  # Probabilidade para Alzheimer\n",
    "\n",
    "    # Criar um heatmap vazio\n",
    "    heatmap = np.zeros(image.shape[1:-1])  # Shape (145, 182, 7)\n",
    "\n",
    "    # Iterar sobre a imagem com stride\n",
    "    for x in range(0, image.shape[1] - block_size[0], stride):\n",
    "        for y in range(0, image.shape[2] - block_size[1], stride):\n",
    "            for z in range(0, image.shape[3] - block_size[2], 1):\n",
    "                occluded = tf.identity(image)\n",
    "\n",
    "                # Aplicar oclusão via slicing (zera um bloco da imagem)\n",
    "                occluded_numpy = occluded.numpy()  # Converte para numpy para manipulação mais fácil\n",
    "                occluded_numpy[:, x:x+block_size[0], y:y+block_size[1], z:z+block_size[2], :] = 0\n",
    "                occluded = tf.convert_to_tensor(occluded_numpy, dtype=tf.float32)\n",
    "\n",
    "                # Fazer predição com a região ocluída\n",
    "                occluded_pred = model(occluded, training=False).numpy()[0, 1]\n",
    "\n",
    "                # Calcular importância da região\n",
    "                importance = original_pred - occluded_pred\n",
    "                heatmap[x:x+block_size[0], y:y+block_size[1], z:z+block_size[2]] += importance\n",
    "\n",
    "    return heatmap"
   ]
  },
  {
   "cell_type": "markdown",
   "metadata": {},
   "source": [
    "##### CARREGAR DADOS"
   ]
  },
  {
   "cell_type": "code",
   "execution_count": null,
   "metadata": {},
   "outputs": [],
   "source": [
    "img_path = \"C:/Users/Team Taiane/Desktop/ADNI/FULL_ADNI/processed_7_slices_data/7_slices_axial/validation/ad/I56644.nii.gz\"\n",
    "image = nib.load(img_path).get_fdata()\n",
    "image= tf.cast(image, dtype=tf.float32)\n",
    "image = tf.expand_dims(image, axis=0)\n",
    "image = tf.expand_dims(image, axis=-1)\n",
    "\n",
    "model_path = \"C:/Users/Team Taiane/Desktop/ADNI/FULL_ADNI/processed_7_slices_data/7_slices_axial/results/3d/axial_certo/test_5/binary_classifier_120_epochs_batch_64_5_classes.keras\"\n",
    "model = tf.keras.models.load_model(model_path)"
   ]
  },
  {
   "cell_type": "markdown",
   "metadata": {},
   "source": [
    "##### GERAR MAPA DE OCLUSÃO"
   ]
  },
  {
   "cell_type": "code",
   "execution_count": null,
   "metadata": {},
   "outputs": [],
   "source": [
    "bloco = 50\n",
    "slices = 3\n",
    "heatmap = occlusion_sensitivity(model, image, block_size=(bloco, bloco, slices), stride=(bloco))"
   ]
  },
  {
   "cell_type": "markdown",
   "metadata": {},
   "source": [
    "##### PLOTAR MAPA DE OCLUSÃO"
   ]
  },
  {
   "cell_type": "code",
   "execution_count": null,
   "metadata": {},
   "outputs": [],
   "source": [
    "for z in range(0, 6):\n",
    "    # Escolher fatia central (Z = 3)\n",
    "    z_slice = z  # (Lembre-se que Python indexa a partir de 0)\n",
    "\n",
    "    # Normalizar o heatmap para ficar entre 0 e 1\n",
    "    heatmap_normalized = (heatmap[:, :, z_slice] - np.min(heatmap[:, :, z_slice])) / (np.max(heatmap[:, :, z_slice]) - np.min(heatmap[:, :, z_slice]))\n",
    "\n",
    "    # Plotar a imagem original em escala de cinza\n",
    "    plt.imshow(image[0, :, :, z_slice, 0], cmap='gray', alpha=1)\n",
    "\n",
    "    # Sobrepor o heatmap com transparência\n",
    "    plt.imshow(heatmap_normalized, cmap='hot', alpha=0.5)  # alpha controla a transparência\n",
    "\n",
    "    # Adicionar barra de cores e título\n",
    "    plt.colorbar(label=\"Importância da região\")\n",
    "    plt.title(\"Oclusão Sensitivity - Sobreposição\")\n",
    "    plt.show()"
   ]
  }
 ],
 "metadata": {
  "kernelspec": {
   "display_name": "Python 3",
   "language": "python",
   "name": "python3"
  },
  "language_info": {
   "codemirror_mode": {
    "name": "ipython",
    "version": 3
   },
   "file_extension": ".py",
   "mimetype": "text/x-python",
   "name": "python",
   "nbconvert_exporter": "python",
   "pygments_lexer": "ipython3",
   "version": "3.10.12"
  }
 },
 "nbformat": 4,
 "nbformat_minor": 2
}
