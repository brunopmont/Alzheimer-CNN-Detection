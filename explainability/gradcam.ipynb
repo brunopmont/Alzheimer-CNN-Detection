{
 "cells": [
  {
   "cell_type": "code",
   "execution_count": 1,
   "metadata": {},
   "outputs": [],
   "source": [
    "import tensorflow as tf\n",
    "import numpy as np\n",
    "import matplotlib.pyplot as plt\n",
    "import nibabel as nib"
   ]
  },
  {
   "cell_type": "code",
   "execution_count": 2,
   "metadata": {},
   "outputs": [],
   "source": [
    "def generate_gradcam(model, input_data, target_class, last_conv_layer_name, output_layer_name):\n",
    "    grad_model = tf.keras.models.Model(\n",
    "        [model.inputs], \n",
    "        [\n",
    "            model.get_layer(last_conv_layer_name).output, \n",
    "            model.get_layer(output_layer_name).output\n",
    "        ]\n",
    "    )\n",
    "\n",
    "    with tf.GradientTape() as tape:\n",
    "        conv_outputs, predictions = grad_model(input_data)\n",
    "        loss = predictions[:, target_class]\n",
    "\n",
    "    grads = tape.gradient(loss, conv_outputs)\n",
    "    pooled_grads = tf.reduce_mean(grads, axis=(0, 1, 2, 3))\n",
    "    conv_outputs = conv_outputs[0]\n",
    "\n",
    "    # Pesos aplicados ao mapa de características\n",
    "    cam = tf.reduce_sum(tf.multiply(pooled_grads, conv_outputs), axis=-1)\n",
    "\n",
    "    # Normalização para 0-1\n",
    "    cam = tf.maximum(cam, 0)\n",
    "    cam = cam / tf.reduce_max(cam)\n",
    "\n",
    "    return cam.numpy()"
   ]
  },
  {
   "cell_type": "code",
   "execution_count": 3,
   "metadata": {},
   "outputs": [],
   "source": [
    "base_path = \"C:/Users/Team Taiane/Desktop/ADNI/FULL_ADNI/processed_7_slices_data/7_slices_sagital/\"\n",
    "model_path = f\"{base_path}results/3d/test_1/binary_classifier_150_epochs_batch_64_2_classes.keras\"\n",
    "#sample_path = f\"{base_path}validation/ad/I89119.nii.gz\"\n",
    "sample_path = \"C:/Users/Team Taiane/Desktop/ADNI/FULL_ADNI/processed_7_slices_data/7_slices_axial/train/ad/I10861.nii.gz\"\n",
    "\n",
    "model = tf.keras.models.load_model(model_path)\n",
    "\n",
    "sample = nib.load(sample_path).get_fdata()\n",
    "sample = np.expand_dims(sample, axis=0)  # Adiciona batch size\n",
    "sample = np.expand_dims(sample, axis=-1)  # Adiciona canal\n",
    "\n",
    "target_class = 1\n",
    "last_conv_layer_name = 'conv3d_3'\n",
    "output_layer_name = 'dense_2'"
   ]
  },
  {
   "cell_type": "code",
   "execution_count": null,
   "metadata": {},
   "outputs": [],
   "source": [
    "# Visualizar o GradCAM\n",
    "plt.imshow(sample[0, :, :, 4, 0], cmap='gray')  # Mostrar um slice central\n",
    "plt.colorbar()\n",
    "plt.show()"
   ]
  },
  {
   "cell_type": "code",
   "execution_count": null,
   "metadata": {},
   "outputs": [],
   "source": [
    "print(sample.shape)"
   ]
  },
  {
   "cell_type": "code",
   "execution_count": null,
   "metadata": {},
   "outputs": [],
   "source": [
    "model.summary()"
   ]
  },
  {
   "cell_type": "code",
   "execution_count": null,
   "metadata": {},
   "outputs": [],
   "source": [
    "cam = generate_gradcam(model, sample, target_class, last_conv_layer_name, output_layer_name)\n",
    "\n",
    "\n",
    "# Visualizar o GradCAM\n",
    "plt.imshow(cam[:, :, cam.shape[2] // 2], cmap='jet')  # Mostrar um slice central\n",
    "plt.colorbar()\n",
    "plt.show()"
   ]
  }
 ],
 "metadata": {
  "kernelspec": {
   "display_name": "Python 3",
   "language": "python",
   "name": "python3"
  },
  "language_info": {
   "codemirror_mode": {
    "name": "ipython",
    "version": 3
   },
   "file_extension": ".py",
   "mimetype": "text/x-python",
   "name": "python",
   "nbconvert_exporter": "python",
   "pygments_lexer": "ipython3",
   "version": "3.12.7"
  }
 },
 "nbformat": 4,
 "nbformat_minor": 2
}
