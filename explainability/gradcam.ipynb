{
 "cells": [
  {
   "cell_type": "code",
   "execution_count": 1,
   "metadata": {},
   "outputs": [],
   "source": [
    "from keras import backend as K\n",
    "from scipy.ndimage import zoom\n",
    "import numpy as np\n",
    "import os\n",
    "import keras\n",
    "import tensorflow as tf\n",
    "import nibabel as nib\n",
    "import matplotlib.pyplot as plt"
   ]
  },
  {
   "cell_type": "code",
   "execution_count": 45,
   "metadata": {},
   "outputs": [],
   "source": [
    "def grad_cam(model, img, class_idx, layer_name=\"conv3d_3\"):\n",
    "    \"\"\"\n",
    "    Calcula o Grad-CAM para uma imagem e um índice de classe específicos.\n",
    "    \n",
    "    :param model: O modelo Keras.\n",
    "    :param img: A imagem de entrada (formato (1, altura, largura, canais)).\n",
    "    :param class_idx: O índice da classe de interesse.\n",
    "    :param layer_name: O nome da camada convolucional onde o Grad-CAM será calculado.\n",
    "    \n",
    "    :return: O mapa Grad-CAM.\n",
    "    \"\"\"\n",
    "\n",
    "    # Garantir que o modelo seja chamado para inicializar as entradas\n",
    "    img = tf.convert_to_tensor(img)  # Certificar-se de que a imagem é um tensor\n",
    "    model(img)  # Forçar uma chamada para o modelo para inicializar as entradas\n",
    "\n",
    "    # Obter a camada convolucional final do modelo\n",
    "    last_conv_layer = model.get_layer(layer_name)\n",
    "    \n",
    "    # Criar um novo modelo que retorna a saída da camada convolucional e a saída final\n",
    "    grad_model = keras.Model(inputs=model.input, outputs=[last_conv_layer.output, model.output])\n",
    "    \n",
    "    # Obter as previsões para a imagem\n",
    "    with tf.GradientTape() as tape:\n",
    "        tape.watch(img)  # Habilita a vigilância da imagem (variável de entrada)\n",
    "        conv_output, class_output = grad_model(img)  # Saídas da camada convolucional e da classificação\n",
    "        \n",
    "        # Acessar a classe desejada\n",
    "        class_loss = class_output[:, class_idx]\n",
    "    \n",
    "    # Calcular o gradiente da perda da classe com relação à saída da camada convolucional\n",
    "    grads = tape.gradient(class_loss, conv_output)\n",
    "    \n",
    "    # Calcular a média global do gradiente sobre a dimensão espacial (altura e largura)\n",
    "    grads = tf.reduce_mean(grads, axis=(1, 2))\n",
    "    \n",
    "    # Expandir os gradientes para as dimensões do mapa de ativação\n",
    "    conv_output = conv_output[0]  # Remover batch dimension\n",
    "    grad_cam = tf.reduce_sum(grads[..., tf.newaxis] * conv_output, axis=-1)  # Multiplicação ponderada\n",
    "    \n",
    "    # Normalizar o Grad-CAM\n",
    "    grad_cam = np.maximum(grad_cam, 0)  # Retirar valores negativos\n",
    "    grad_cam = grad_cam / np.max(grad_cam)  # Normalizar entre 0 e 1\n",
    "    \n",
    "    # Redimensionar para o tamanho original da imagem\n",
    "    grad_cam = tf.image.resize(grad_cam, (img.shape[1], img.shape[2]))  # Redimensionar\n",
    "    grad_cam = grad_cam.numpy()  # Converter para um array numpy\n",
    "    \n",
    "    # Exibir o Grad-CAM\n",
    "    plt.imshow(grad_cam, cmap='jet')\n",
    "    plt.colorbar()\n",
    "    plt.show()\n",
    "\n",
    "    return grad_cam"
   ]
  },
  {
   "cell_type": "code",
   "execution_count": 40,
   "metadata": {},
   "outputs": [],
   "source": [
    "base_path = \"c:/Users/Paulo Pires/Desktop/Alzheimer_cnn/7_slices_axial\"\n",
    "model_path = f\"{base_path}/results/3d/test_1/binary_classifier_100_epochs_batch_64_2_classes.keras\"\n",
    "sample_path = f\"{base_path}/validation/ad/I89119.nii.gz\"\n",
    "\n",
    "model = tf.keras.models.load_model(model_path)\n",
    "model.compile(optimizer='adam', loss='categorical_crossentropy', metrics=['accuracy'])\n",
    "\n",
    "\n",
    "sample = nib.load(sample_path).get_fdata()\n",
    "sample = np.expand_dims(sample, axis=0)  # Adiciona batch size\n",
    "sample = np.expand_dims(sample, axis=-1)  # Adiciona canal"
   ]
  },
  {
   "cell_type": "code",
   "execution_count": null,
   "metadata": {},
   "outputs": [],
   "source": [
    "print(f\"Forma da entrada do modelo: {model.input_shape}\")\n",
    "print(f\"Forma do sample: {sample.shape}\")\n"
   ]
  },
  {
   "cell_type": "code",
   "execution_count": null,
   "metadata": {},
   "outputs": [],
   "source": [
    "model.summary()"
   ]
  },
  {
   "cell_type": "code",
   "execution_count": null,
   "metadata": {},
   "outputs": [],
   "source": [
    "_ = model.predict(sample)"
   ]
  },
  {
   "cell_type": "code",
   "execution_count": null,
   "metadata": {},
   "outputs": [],
   "source": [
    "# Escolher o índice da classe para a qual gerar o Grad-CAM (Exemplo: classe 0 ou 1)\n",
    "class_idx = 1  # Altere para 1 para a outra classe\n",
    "\n",
    "# Gerar o Grad-CAM\n",
    "grad_cam_map = grad_cam(model, sample, class_idx)"
   ]
  },
  {
   "cell_type": "code",
   "execution_count": null,
   "metadata": {},
   "outputs": [],
   "source": [
    "# Exibir o Grad-CAM\n",
    "plt.imshow(grad_cam_map[:, :, 0], cmap='jet')  # Exibindo a primeira camada\n",
    "plt.colorbar()\n",
    "plt.show()"
   ]
  }
 ],
 "metadata": {
  "kernelspec": {
   "display_name": "Python 3",
   "language": "python",
   "name": "python3"
  },
  "language_info": {
   "codemirror_mode": {
    "name": "ipython",
    "version": 3
   },
   "file_extension": ".py",
   "mimetype": "text/x-python",
   "name": "python",
   "nbconvert_exporter": "python",
   "pygments_lexer": "ipython3",
   "version": "3.11.9"
  }
 },
 "nbformat": 4,
 "nbformat_minor": 2
}
