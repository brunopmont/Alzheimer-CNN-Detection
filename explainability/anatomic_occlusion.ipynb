{
 "cells": [
  {
   "cell_type": "code",
   "execution_count": null,
   "metadata": {},
   "outputs": [],
   "source": [
    "import numpy as np\n",
    "import tensorflow as tf\n",
    "import matplotlib.pyplot as plt\n",
    "import nibabel as nib\n",
    "import os\n",
    "from sklearn.metrics import confusion_matrix, classification_report, ConfusionMatrixDisplay\n",
    "from keras.models import load_model\n",
    "from nilearn import datasets, plotting\n",
    "from scipy.ndimage import zoom"
   ]
  },
  {
   "cell_type": "code",
   "execution_count": null,
   "metadata": {},
   "outputs": [],
   "source": [
    "def resize(file, shape):\n",
    "    img = nib.load(file)\n",
    "    data = img.get_fdata()\n",
    "\n",
    "    # Definir o novo formato de imagem\n",
    "    new_shape = shape\n",
    "    zoom_factors = np.array(new_shape) / np.array(data.shape)\n",
    "\n",
    "    # order 0 é para manter os valores\n",
    "    resized_data = zoom(data, zoom_factors, order=0)  \n",
    "    cropped_data = resized_data[24:169, 24:206, 6:161]\n",
    "    return cropped_data\n",
    "\n",
    "def plot_image_mask(patient_data, mask_data):\n",
    "    # Número de fatias que você deseja plotar\n",
    "    num_slices = 7\n",
    "\n",
    "    # Criar subplots em uma única linha\n",
    "    fig, axes = plt.subplots(1, num_slices, figsize=(20, 5))  # Ajuste o tamanho conforme necessário\n",
    "\n",
    "    # Iterar por cada fatia z\n",
    "    for z in range(0, num_slices, 1):\n",
    "        ax = axes[z]  # Acessa o subplot para a fatia z\n",
    "\n",
    "        # Exibir a imagem da fatia do paciente em escala de cinza\n",
    "        ax.imshow(patient_data[:, :, z], cmap='gray')\n",
    "\n",
    "        # Sobrepor a máscara do atlas com transparência ajustada\n",
    "        ax.imshow(mask_data[:, :, z], cmap='nipy_spectral', alpha=0.7)\n",
    "\n",
    "        ax.set_title(f\"z = {z}\")\n",
    "        ax.axis(\"off\")  # Desativa os eixos\n",
    "\n",
    "    # Ajustar o layout para que as imagens não se sobreponham\n",
    "    plt.tight_layout()\n",
    "    plt.show()\n",
    "\n",
    "def save_useless_labels(labels, atlas):\n",
    "    to_remove = [0]\n",
    "\n",
    "    for idx in range(0, len(labels)):\n",
    "        nulo = np.count_nonzero(atlas == idx)\n",
    "        if nulo == 0:\n",
    "            to_remove.append(idx)\n",
    "\n",
    "    print(f\"Número de labels nos slices definidos: {len(labels)}\\nNúmero de labels sem valor nos slices definidos: {len(to_remove)}\")\n",
    "\n",
    "    '''for item in to_remove:\n",
    "        if item in labels:\n",
    "            labels.remove(item)\n",
    "\n",
    "    print(f\"Número de labels depois da remoção: {len(labels)}\\n\")'''\n",
    "    return to_remove\n",
    "\n",
    "def plot_each_region(atlas_data, patient_data, labels, ignore):\n",
    "    # Máscara por intervalo\n",
    "    for idx in range(0, len(labels)):\n",
    "        if idx not in (ignore):\n",
    "            fig, axes = plt.subplots(1, 7, figsize=(20, 5))\n",
    "            i = 0\n",
    "\n",
    "            for z in range(0, 7):\n",
    "                atlas_slice = atlas_data[:, :, z]\n",
    "                patient_slice = patient_data[:, :, z]\n",
    "\n",
    "                # Criar uma máscara binária para exibir apenas os labels dentro do intervalo\n",
    "                mask = np.isin(atlas_slice, idx)\n",
    "\n",
    "                # Criar uma cópia do atlas onde apenas os valores do label são mantidos\n",
    "                filtered_atlas = np.zeros_like(atlas_slice)\n",
    "                filtered_atlas[mask] = atlas_slice[mask]  # Mantém só os valores do label\n",
    "\n",
    "                # Exibir as imagens lado a lado\n",
    "                axes[i].imshow(patient_slice, cmap='gray')\n",
    "                axes[i].imshow(filtered_atlas, cmap='jet', alpha=0.5) # o alpha é a transparência\n",
    "                axes[i].set_title(f\"z = {z}\")\n",
    "                axes[i].axis(\"off\")\n",
    "                i += 1 \n",
    "\n",
    "            plt.suptitle(f\"Grupo: {labels[idx]}\", fontsize=16)\n",
    "            plt.subplots_adjust(top=1.3)  # Ajusta o espaço entre título e imagens\n",
    "            plt.show()"
   ]
  },
  {
   "cell_type": "code",
   "execution_count": null,
   "metadata": {},
   "outputs": [],
   "source": [
    "raw_path = \"C:/Users/Team Taiane/Desktop/ADNI/FULL_ADNI/raw_data/3D_BRAIN_NOT_NORMALIZED/test/ad/I297850.nii.gz\"\n",
    "patient_path = \"C:/Users/Team Taiane/Desktop/ADNI/FULL_ADNI/processed_7_slices_data/7_slices_axial/test/ad/I300337.nii.gz\"\n",
    "data_patient = nib.load(raw_path).get_fdata()"
   ]
  },
  {
   "cell_type": "code",
   "execution_count": null,
   "metadata": {},
   "outputs": [],
   "source": [
    "# Carregar o atlas Harvard-Oxford cortical e subcortical\n",
    "atlas_cortical = datasets.fetch_atlas_harvard_oxford('cort-maxprob-thr25-2mm')\n",
    "atlas_img_cortical = nib.load(atlas_cortical.filename)\n",
    "data_cortical = atlas_img_cortical.get_fdata()\n",
    "\n",
    "atlas_subcortical = datasets.fetch_atlas_harvard_oxford('sub-maxprob-thr25-2mm')\n",
    "atlas_img_subcortical = nib.load(atlas_subcortical.filename)\n",
    "data_subcortical = atlas_img_subcortical.get_fdata()"
   ]
  },
  {
   "cell_type": "code",
   "execution_count": null,
   "metadata": {},
   "outputs": [],
   "source": [
    "# Visualizar o atlas cortical\n",
    "plotting.plot_roi(atlas_cortical.maps, title=\"Harvard-Oxford Cortical Atlas\")\n",
    "\n",
    "# Visualizar o atlas subcortical\n",
    "plotting.plot_roi(atlas_subcortical.maps, title=\"Harvard-Oxford Subcortical Atlas\")\n",
    "\n",
    "plotting.show()\n",
    "\n",
    "cortical_labels = atlas_cortical.labels\n",
    "subcortical_labels = atlas_subcortical.labels\n",
    "\n",
    "# Listar os nomes das regiões\n",
    "print(\"Regiões Corticais:\")\n",
    "for idx, region in enumerate(cortical_labels):\n",
    "    print(f\"{idx}: {region}\")\n",
    "\n",
    "print(\"\\nRegiões Subcorticais:\")\n",
    "for idx, region in enumerate(subcortical_labels):\n",
    "    print(f\"{idx}: {region}\")\n"
   ]
  },
  {
   "cell_type": "code",
   "execution_count": null,
   "metadata": {},
   "outputs": [],
   "source": [
    "for idx, region in enumerate(cortical_labels):\n",
    "    indice_cortical = idx \n",
    "\n",
    "    # Criar uma máscara para o índice da região\n",
    "    mask = np.zeros_like(data_cortical)\n",
    "    mask[data_cortical == indice_cortical] = 1\n",
    "\n",
    "    # Criar uma imagem de máscara a partir dos dados\n",
    "    mask_img = nib.Nifti1Image(mask, atlas_img_cortical.affine)\n",
    "\n",
    "    # Plotar a região\n",
    "    plotting.plot_roi(mask_img, title=f\"Região {region} - Cortical\", display_mode='z', draw_cross=True)\n",
    "\n",
    "    plotting.show()"
   ]
  },
  {
   "cell_type": "code",
   "execution_count": null,
   "metadata": {},
   "outputs": [],
   "source": [
    "for idx in range(1, len(subcortical_labels) - 1//2):\n",
    "\n",
    "    indice_subcortical = idx\n",
    "    mask_subcortical = np.zeros_like(data_subcortical)\n",
    "    mask_subcortical[(data_subcortical == indice_subcortical) | (data_subcortical == indice_subcortical+11)] = 1  # Criar máscara para o índice\n",
    "\n",
    "    # Criar imagem de máscara subcortical\n",
    "    mask_img_subcortical = nib.Nifti1Image(mask_subcortical, atlas_img_subcortical.affine)\n",
    "\n",
    "    # Plotar a região subcortical\n",
    "    plotting.plot_roi(mask_img_subcortical, title=f\"Região {region} - Subcortical\", display_mode='z', draw_cross=False)\n",
    "\n",
    "    # Mostrar os gráficos\n",
    "    plotting.show()"
   ]
  },
  {
   "cell_type": "code",
   "execution_count": null,
   "metadata": {},
   "outputs": [],
   "source": [
    "print(data_cortical.shape)\n",
    "plt.imshow(data_cortical[:, :, 50])\n",
    "plt.show()\n",
    "\n",
    "print(data_patient.shape)"
   ]
  },
  {
   "cell_type": "code",
   "execution_count": null,
   "metadata": {},
   "outputs": [],
   "source": [
    "new_shape = (193, 229, 193)\n",
    "\n",
    "resized_cortical_data = resize(atlas_cortical.filename, new_shape)\n",
    "resized_subcortical_data = resize(atlas_subcortical.filename, new_shape)\n",
    "\n",
    "plt.imshow(resized_cortical_data[:, :, 88])\n",
    "plt.show()\n",
    "\n",
    "plt.imshow(resized_subcortical_data[:, :, 88])\n",
    "plt.show()"
   ]
  },
  {
   "cell_type": "markdown",
   "metadata": {},
   "source": [
    "##### ALINHAMENTO DA MÁSCARA COM MRI"
   ]
  },
  {
   "cell_type": "code",
   "execution_count": null,
   "metadata": {},
   "outputs": [],
   "source": [
    "# harvard-oxford -> [17:162, 19:201, 0:155]\n",
    "# mri -> [24:169, 24:206, 6:161]\n",
    "# aalr3 -> [21:166, 18:200, 0:155]\n",
    "\n",
    "lim = resized_cortical_data.shape[2]\n",
    "\n",
    "slices = (60, 68, 76, 82, 89, 92, 96)\n",
    "\n",
    "data_cortical_slices = resized_cortical_data[:, :, slices]\n",
    "data_subcortical_slices = resized_subcortical_data[:, :, slices]\n",
    "data_patient_slices = data_patient[:, :, slices]"
   ]
  },
  {
   "cell_type": "code",
   "execution_count": null,
   "metadata": {},
   "outputs": [],
   "source": [
    "# Listar os nomes das regiões\n",
    "print(\"Regiões Corticais:\")\n",
    "for idx, region in enumerate(cortical_labels):\n",
    "    print(f\"{idx}: {region}\")\n",
    "\n",
    "print(\"\\nRegiões Subcorticais:\")\n",
    "for idx, region in enumerate(subcortical_labels):\n",
    "    print(f\"{idx}: {region}\")"
   ]
  },
  {
   "cell_type": "code",
   "execution_count": null,
   "metadata": {},
   "outputs": [],
   "source": [
    "cortical_ignore = save_useless_labels(cortical_labels, data_cortical_slices)\n",
    "subcortical_ignore = save_useless_labels(subcortical_labels, data_subcortical_slices)"
   ]
  },
  {
   "cell_type": "code",
   "execution_count": null,
   "metadata": {},
   "outputs": [],
   "source": [
    "# Listar os nomes das regiões\n",
    "print(\"Regiões Corticais:\")\n",
    "for idx, region in enumerate(cortical_labels):\n",
    "    print(f\"{idx}: {region}\")\n",
    "\n",
    "print(\"\\nRegiões Subcorticais:\")\n",
    "for idx, region in enumerate(subcortical_labels):\n",
    "    print(f\"{idx}: {region}\")"
   ]
  },
  {
   "cell_type": "code",
   "execution_count": null,
   "metadata": {},
   "outputs": [],
   "source": [
    "plot_image_mask(data_patient_slices, data_cortical_slices)"
   ]
  },
  {
   "cell_type": "code",
   "execution_count": null,
   "metadata": {},
   "outputs": [],
   "source": [
    "plot_image_mask(data_patient_slices, data_subcortical_slices)"
   ]
  },
  {
   "cell_type": "code",
   "execution_count": null,
   "metadata": {},
   "outputs": [],
   "source": [
    "print(f\"LABELS CORTICAL ATLAS ({len(cortical_labels)}):\\n{cortical_labels}\\n\\nLABELS SUBCORTICAL ATLAS ({len(subcortical_labels)}):\\n{subcortical_labels}\")"
   ]
  },
  {
   "cell_type": "code",
   "execution_count": null,
   "metadata": {},
   "outputs": [],
   "source": [
    "patient_path = \"C:/Users/Team Taiane/Desktop/ADNI/FULL_ADNI/processed_7_slices_data/7_slices_axial/test/ad/I300337.nii.gz\"\n",
    "patient_pred = nib.load(patient_path).get_fdata()"
   ]
  },
  {
   "cell_type": "code",
   "execution_count": null,
   "metadata": {},
   "outputs": [],
   "source": [
    "plot_each_region(data_cortical_slices, patient_pred, cortical_labels, cortical_ignore)"
   ]
  },
  {
   "cell_type": "code",
   "execution_count": null,
   "metadata": {},
   "outputs": [],
   "source": [
    "plot_each_region(data_subcortical_slices, patient_pred, subcortical_labels, subcortical_ignore)"
   ]
  },
  {
   "cell_type": "markdown",
   "metadata": {},
   "source": [
    "##### PLOT MÁSCARA POR REGIÃO"
   ]
  },
  {
   "cell_type": "code",
   "execution_count": null,
   "metadata": {},
   "outputs": [],
   "source": [
    "cortical_dict = {}\n",
    "\n",
    "print(\"Regiões Corticais:\")\n",
    "for idx, region in enumerate(cortical_labels):\n",
    "    print(f\"{idx}: {region}\")\n",
    "\n",
    "# Máscara por intervalo\n",
    "for idx in range(0, len(cortical_labels)):\n",
    "    if idx not in cortical_ignore:\n",
    "        fig, axes = plt.subplots(1, 7, figsize=(20, 5))\n",
    "        final_mask = data_cortical_slices.copy()\n",
    "        i = 0\n",
    "\n",
    "        for z in range(0, 7):\n",
    "            atlas_slice = data_cortical_slices[:, :, z]\n",
    "            patient_slice = patient_pred[:, :, z]\n",
    "\n",
    "            mask = np.isin(atlas_slice, idx).astype(np.uint8) \n",
    "\n",
    "            final_mask[:, :, z] = mask\n",
    "\n",
    "            # Exibir as imagens lado a lado\n",
    "            axes[i].imshow(patient_slice, cmap='gray')\n",
    "            axes[i].imshow(mask, cmap='jet', alpha=0.5) # o alpha é a transparência\n",
    "            axes[i].set_title(f\"z = {slices[z]}\")\n",
    "            axes[i].axis(\"off\")\n",
    "            i += 1\n",
    "\n",
    "        cortical_dict[cortical_labels[idx]] = final_mask\n",
    "\n",
    "        plt.suptitle(f\"Grupo: {cortical_labels[idx]}\", fontsize=16)\n",
    "        plt.subplots_adjust(top=1.3)  # Ajusta o espaço entre título e imagens\n",
    "        plt.show()"
   ]
  },
  {
   "cell_type": "code",
   "execution_count": null,
   "metadata": {},
   "outputs": [],
   "source": [
    "subcortical_dict = {}\n",
    "n_labels_sub = len(subcortical_labels)\n",
    "\n",
    "print(\"\\nRegiões Subcorticais:\")\n",
    "for idx, region in enumerate(subcortical_labels):\n",
    "    print(f\"{idx}: {region}\")\n",
    "\n",
    "# Máscara por intervalo\n",
    "for idx in range(0, (n_labels_sub+1)//2+1):\n",
    "    if idx not in subcortical_ignore:\n",
    "        name = subcortical_labels[idx]\n",
    "        if idx != 8:\n",
    "            name = \" \".join(name.split()[1:])  \n",
    "\n",
    "        fig, axes = plt.subplots(1, 7, figsize=(20, 5))\n",
    "        final_mask = data_subcortical_slices.copy()\n",
    "        i = 0\n",
    "\n",
    "        for z in range(0, 7):\n",
    "            atlas_slice = data_subcortical_slices[:, :, z]\n",
    "            patient_slice = patient_pred[:, :, z]\n",
    "\n",
    "            if idx < 8:\n",
    "                mask = np.isin(atlas_slice, (idx, (idx + (n_labels_sub+1)//2))).astype(np.uint8)\n",
    "            elif idx == 8:\n",
    "                mask = np.isin(atlas_slice, (idx)).astype(np.uint8)\n",
    "            else:\n",
    "                mask = np.isin(atlas_slice, (idx, (idx - 1 + (n_labels_sub+1)//2))).astype(np.uint8)\n",
    "\n",
    "            final_mask[:, :, z] = mask\n",
    "\n",
    "            # Exibir as imagens lado a lado\n",
    "            axes[i].imshow(patient_slice, cmap='gray')\n",
    "            axes[i].imshow(mask, cmap='jet', alpha=0.5) # o alpha é a transparência\n",
    "            axes[i].set_title(f\"z = {slices[z]}\")\n",
    "            axes[i].axis(\"off\")\n",
    "            i += 1\n",
    "\n",
    "        subcortical_dict[name] = final_mask\n",
    "\n",
    "        if idx == 8:\n",
    "            plt.suptitle(f\"Grupo {idx}: {name}\", fontsize=16)\n",
    "        else: \n",
    "            plt.suptitle(f\"Grupo {idx} e {(idx - 1 + (n_labels_sub+1)//2)}: {name}\", fontsize=16)\n",
    "        plt.subplots_adjust(top=1.3)  # Ajusta o espaço entre título e imagens\n",
    "        plt.show()"
   ]
  },
  {
   "cell_type": "code",
   "execution_count": null,
   "metadata": {},
   "outputs": [],
   "source": [
    "print(cortical_dict.keys())\n",
    "\n",
    "if 'Cerebral White Matter' in subcortical_dict:\n",
    "    subcortical_dict.pop('Cerebral White Matter')\n",
    "if 'Cerebral Cortex' in subcortical_dict:\n",
    "    subcortical_dict.pop('Cerebral Cortex')\n",
    "\n",
    "print(subcortical_dict.keys())"
   ]
  },
  {
   "cell_type": "code",
   "execution_count": null,
   "metadata": {},
   "outputs": [],
   "source": [
    "for name in cortical_dict.keys():\n",
    "    mascara = cortical_dict[name]\n",
    "    fig, axes = plt.subplots(1, 7, figsize=(20, 5))\n",
    "    \n",
    "    for z in range(0, 7):\n",
    "        patient_slice = patient_pred[:, :, z]\n",
    "        mask = mascara[:, :, z]\n",
    "\n",
    "        axes[z].imshow(patient_slice, cmap='gray')\n",
    "        axes[z].imshow(mask, alpha=0.5)\n",
    "        axes[z].axis('off')\n",
    "        axes[z].set_title(f\"z = {slices[z]}\")\n",
    "        \n",
    "    plt.suptitle(name)\n",
    "    plt.subplots_adjust(top=1.3)\n",
    "    plt.show()"
   ]
  },
  {
   "cell_type": "code",
   "execution_count": null,
   "metadata": {},
   "outputs": [],
   "source": [
    "for name in subcortical_dict.keys():\n",
    "    mascara = subcortical_dict[name]\n",
    "    fig, axes = plt.subplots(1, 7, figsize=(20, 5))\n",
    "    \n",
    "    for z in range(0, 7):\n",
    "        patient_slice = patient_pred[:, :, z]\n",
    "        mask = mascara[:, :, z]\n",
    "\n",
    "        axes[z].imshow(patient_slice, cmap='gray')\n",
    "        axes[z].imshow(mask, alpha=0.5)\n",
    "        axes[z].axis('off')\n",
    "        axes[z].set_title(f\"z = {slices[z]}\")\n",
    "        \n",
    "    plt.suptitle(name)\n",
    "    plt.subplots_adjust(top=1.3)\n",
    "    plt.show()"
   ]
  },
  {
   "cell_type": "markdown",
   "metadata": {},
   "source": [
    "##### TESTAR OCLUSÃO"
   ]
  },
  {
   "cell_type": "code",
   "execution_count": null,
   "metadata": {},
   "outputs": [],
   "source": [
    "for name in subcortical_dict.keys():\n",
    "    mascara = subcortical_dict[name]\n",
    "    fig, axes = plt.subplots(1, 7, figsize=(20, 5))\n",
    "\n",
    "    masked_patient = (1-mascara) * patient_pred\n",
    "    \n",
    "    for z in range(0, 7):\n",
    "        patient_slice = masked_patient[:, :, z]\n",
    "\n",
    "        axes[z].imshow(patient_slice, cmap='gray')\n",
    "        axes[z].axis('off')\n",
    "        axes[z].set_title(f\"z = {slices[z]}\")\n",
    "        \n",
    "    plt.suptitle(f\"Subcortical - {name}\")\n",
    "    plt.subplots_adjust(top=1.3)\n",
    "    plt.show()\n",
    "\n",
    "for name in cortical_dict.keys():\n",
    "    mascara = cortical_dict[name]\n",
    "    fig, axes = plt.subplots(1, 7, figsize=(20, 5))\n",
    "\n",
    "    masked_patient = (1-mascara) * patient_pred\n",
    "    \n",
    "    for z in range(0, 7):\n",
    "        patient_slice = masked_patient[:, :, z]\n",
    "\n",
    "        axes[z].imshow(patient_slice, cmap='gray')\n",
    "        axes[z].axis('off')\n",
    "        axes[z].set_title(f\"z = {slices[z]}\")\n",
    "        \n",
    "    plt.suptitle(f\"Cortical - {name}\")\n",
    "    plt.subplots_adjust(top=1.3)\n",
    "    plt.show()"
   ]
  },
  {
   "cell_type": "markdown",
   "metadata": {},
   "source": [
    "##### PREDIZER OCLUSÃO"
   ]
  },
  {
   "cell_type": "code",
   "execution_count": null,
   "metadata": {},
   "outputs": [],
   "source": [
    "model_path = \"C:/Users/Team Taiane/Desktop/ADNI/FULL_ADNI/processed_7_slices_data/7_slices_axial/results/3d/axial_certo/test_5/binary_classifier_120_epochs_batch_64_5_classes.keras\"\n",
    "model = tf.keras.models.load_model(model_path)\n",
    "\n",
    "# Suponha que `data_patient` seja o MRI original\n",
    "original_image = np.expand_dims(patient_pred, axis=(0, -1))  # Adiciona batch e canal (1, H, W, D, 1)\n",
    "\n",
    "# Fazer a predição na imagem original\n",
    "original_pred = model.predict(original_image)[0]\n",
    "print(original_pred)\n",
    "\n",
    "# Armazenar resultados\n",
    "importance_map = {}\n",
    "\n",
    "# Iterar sobre cada versão ocluída do dicionário\n",
    "for region_name, occluded_mri in mri_masked_dict.items():\n",
    "    print(region_name)\n",
    "    occluded_image = np.expand_dims(occluded_mri, axis=(0, -1))  # Adicionar batch e canal\n",
    "\n",
    "    # Fazer predição na versão ocluída\n",
    "    occluded_pred = model.predict(occluded_image)[0]\n",
    "    print(occluded_pred)\n",
    "\n",
    "    # Calcular a diferença na predição\n",
    "    importance = np.abs(original_pred - occluded_pred)\n",
    "\n",
    "    # Armazenar a importância da região\n",
    "    importance_map[region_name] = importance\n",
    "\n",
    "    #print(f\"Região: {region_name} → Impacto na predição: {importance}\")\n",
    "\n",
    "print(f\"IMPORTANCIA:\\n\")\n",
    "for item in mri_masked_dict:\n",
    "    print(f\"{item}: {importance_map[item]}\")"
   ]
  },
  {
   "cell_type": "markdown",
   "metadata": {},
   "source": [
    "##### PREDIZER TESTE INTEIRO"
   ]
  },
  {
   "cell_type": "code",
   "execution_count": null,
   "metadata": {},
   "outputs": [],
   "source": [
    "def load_data(path, classes):\n",
    "    dataset = []\n",
    "    labels = []\n",
    "\n",
    "    for i in range(0, len(classes)):\n",
    "        dir = f\"{path}/{classes[i]}\"\n",
    "\n",
    "        for data in os.listdir(dir):\n",
    "            data_path = f\"{dir}/{data}\"\n",
    "            image = nib.load(data_path).get_fdata()\n",
    "            image = image[..., np.newaxis]\n",
    "            dataset.append(image)\n",
    "            labels.append(i)\n",
    "\n",
    "    return np.array(dataset), np.array(labels)\n",
    "\n",
    "def occlude_data(data, mask):\n",
    "    mask = mask[..., np.newaxis]\n",
    "\n",
    "    occluded = np.copy(data)\n",
    "    \n",
    "    for i in range(0, len(occluded)):\n",
    "            occluded[i] = occluded[i] * mask\n",
    "\n",
    "    return occluded\n",
    "\n",
    "def plot_confusion_matrix(y_true, y_pred):\n",
    "    cm = confusion_matrix(y_true, y_pred)\n",
    "    disp = ConfusionMatrixDisplay(confusion_matrix=cm)\n",
    "    disp.plot(cmap=plt.cm.Blues)\n",
    "    plt.title('Confusion Matrix')\n",
    "    plt.show()\n",
    "\n",
    "def predict_results(data, labels, model):\n",
    "    y_pred_original = (model.predict(data))\n",
    "\n",
    "    original_class = np.argmax(y_pred_original, axis=1)\n",
    "\n",
    "    print(classification_report(labels, original_class))\n",
    "\n",
    "    plot_confusion_matrix(labels, original_class)"
   ]
  },
  {
   "cell_type": "code",
   "execution_count": null,
   "metadata": {},
   "outputs": [],
   "source": [
    "base_dir = \"C:/Users/Team Taiane/Desktop/ADNI/FULL_ADNI/processed_7_slices_data/7_slices_axial\"\n",
    "\n",
    "test_dir = f\"{base_dir}/test\"\n",
    "model_path = f\"{base_dir}/results/3d/axial_certo/test_5/binary_classifier_120_epochs_batch_64_5_classes.keras\"\n",
    "\n",
    "\n",
    "classes = ['cn', 'emci', 'mci', 'lmci', 'ad']"
   ]
  },
  {
   "cell_type": "code",
   "execution_count": null,
   "metadata": {},
   "outputs": [],
   "source": [
    "data, labels = load_data(test_dir, classes)\n",
    "\n",
    "model = load_model(model_path)\n",
    "\n",
    "predict_results(data, labels, model)"
   ]
  },
  {
   "cell_type": "code",
   "execution_count": null,
   "metadata": {},
   "outputs": [],
   "source": []
  }
 ],
 "metadata": {
  "kernelspec": {
   "display_name": "Python 3",
   "language": "python",
   "name": "python3"
  },
  "language_info": {
   "codemirror_mode": {
    "name": "ipython",
    "version": 3
   },
   "file_extension": ".py",
   "mimetype": "text/x-python",
   "name": "python",
   "nbconvert_exporter": "python",
   "pygments_lexer": "ipython3",
   "version": "3.12.7"
  }
 },
 "nbformat": 4,
 "nbformat_minor": 2
}
