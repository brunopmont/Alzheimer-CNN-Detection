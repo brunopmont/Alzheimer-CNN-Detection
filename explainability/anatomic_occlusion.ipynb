{
 "cells": [
  {
   "cell_type": "code",
   "execution_count": null,
   "metadata": {},
   "outputs": [],
   "source": [
    "import numpy as np\n",
    "import tensorflow as tf\n",
    "import matplotlib.pyplot as plt\n",
    "import nibabel as nib\n",
    "import os"
   ]
  },
  {
   "cell_type": "code",
   "execution_count": null,
   "metadata": {},
   "outputs": [],
   "source": [
    "raw_path = \"C:/Users/Team Taiane/Desktop/ADNI/FULL_ADNI/raw_data/3D_BRAIN_NOT_NORMALIZED/test/ad/I297850.nii.gz\"\n",
    "patient_path = \"C:/Users/Team Taiane/Desktop/ADNI/FULL_ADNI/processed_7_slices_data/7_slices_axial/test/ad/I300337.nii.gz\"\n",
    "patient = nib.load(raw_path)\n",
    "\n",
    "atlas_path = \"HarvardOxford-cort_and_sub-maxprob-thr25-1mm.nii.gz.nii\"\n",
    "atlas_big = nib.load(atlas_path)"
   ]
  },
  {
   "cell_type": "markdown",
   "metadata": {},
   "source": [
    "##### ALINHAMENTO DA MÁSCARA COM MRI"
   ]
  },
  {
   "cell_type": "code",
   "execution_count": null,
   "metadata": {},
   "outputs": [],
   "source": [
    "data_atlas = atlas_big.get_fdata()[17:162, 19:201, 0:155]\n",
    "data_patient = patient.get_fdata()\n",
    "print(patient.shape)\n",
    "print(data_atlas.shape)\n",
    "\n",
    "lim = data_atlas.shape[2]\n",
    "\n",
    "slices = (60, 68, 76, 82, 89, 92, 96)\n",
    "\n",
    "data_atlas_slices = data_atlas[:, :, slices]\n",
    "data_patient_slices = data_patient[:, :, slices]\n",
    "\n",
    "for z in slices:\n",
    "    atlas_slice = data_atlas[:, :, z]\n",
    "    patient_slice = data_patient[:, :, z]\n",
    "\n",
    "    atlas_slice = np.rot90(atlas_slice, k=2)\n",
    "    patient_slice = np.rot90(patient_slice, k=2)\n",
    "\n",
    "    plt.figure(figsize=(6,6))\n",
    "    plt.imshow(patient_slice, cmap='gray')\n",
    "    plt.imshow(atlas_slice, cmap='tab20', alpha=0.3)  # Ajuste alpha para mais/menos transparência\n",
    "\n",
    "    plt.title(f\"z = {z}\")\n",
    "    plt.axis(\"on\") \n",
    "    plt.show()"
   ]
  },
  {
   "cell_type": "markdown",
   "metadata": {},
   "source": [
    "##### PLOT MÁSCARA COMPLETA"
   ]
  },
  {
   "cell_type": "code",
   "execution_count": null,
   "metadata": {},
   "outputs": [],
   "source": [
    "patient_path = \"C:/Users/Team Taiane/Desktop/ADNI/FULL_ADNI/processed_7_slices_data/7_slices_axial/test/ad/I300337.nii.gz\"\n",
    "patient_pred = nib.load(patient_path).get_fdata()\n",
    "\n",
    "# Pegar intervalos\n",
    "intervals = {\n",
    "    \"Ventrículos\": range(0, 12),\n",
    "    \"Córtex e outras regiões\": range(101, 149)  \n",
    "}\n",
    "\n",
    "# Máscara por intervalo\n",
    "for group_name, label_range in intervals.items():\n",
    "    fig, axes = plt.subplots(1, 7, figsize=(20, 5))\n",
    "    patient_mask = data_patient_slices.copy()\n",
    "    i = 0\n",
    "\n",
    "    for z in range(0, 7):\n",
    "        atlas_slice = data_atlas_slices[:, :, z]\n",
    "        patient_slice = patient_pred[:, :, z]\n",
    "\n",
    "        # Exibir as imagens lado a lado\n",
    "        axes[i].imshow(patient_slice, cmap='gray')\n",
    "        axes[i].imshow(atlas_slice, cmap='jet', alpha=0.5) # o alpha é a transparência\n",
    "        axes[i].set_title(f\"z = {z}\")\n",
    "        axes[i].axis(\"off\")\n",
    "        i += 1 \n",
    "\n",
    "    plt.suptitle(f\"Grupo: {group_name}\", fontsize=16)\n",
    "    plt.subplots_adjust(top=1.3)  # Ajusta o espaço entre título e imagens\n",
    "    plt.show()"
   ]
  },
  {
   "cell_type": "markdown",
   "metadata": {},
   "source": [
    "##### PLOT MÁSCARA VENTRÍCULOS X CÓRTEX"
   ]
  },
  {
   "cell_type": "code",
   "execution_count": null,
   "metadata": {},
   "outputs": [],
   "source": [
    "mri_masked_dict = {}\n",
    "\n",
    "# Máscara por intervalo\n",
    "for group_name, label_range in intervals.items():\n",
    "    fig, axes = plt.subplots(1, 7, figsize=(20, 5))\n",
    "    patient_mask = data_patient_slices.copy()\n",
    "    i = 0\n",
    "\n",
    "    for z in range(0, 7):\n",
    "        atlas_slice = data_atlas_slices[:, :, z]\n",
    "        patient_slice = patient_pred[:, :, z]\n",
    "\n",
    "        mask = np.isin(atlas_slice, list(label_range)).astype(np.uint8) \n",
    "\n",
    "        # Aplicar máscara à MRI\n",
    "        patient_mask[:, :, z] = patient_slice * mask\n",
    "\n",
    "        # Exibir as imagens lado a lado\n",
    "        axes[i].imshow(patient_slice, cmap='gray')\n",
    "        axes[i].imshow(mask, cmap='jet', alpha=0.5) # o alpha é a transparência\n",
    "        axes[i].set_title(f\"z = {slices[z]}\")\n",
    "        axes[i].axis(\"off\")\n",
    "        i += 1\n",
    "\n",
    "    mri_masked_dict[group_name] = patient_mask \n",
    "\n",
    "    plt.suptitle(f\"Grupo: {group_name}\", fontsize=16)\n",
    "    plt.subplots_adjust(top=1.3)  # Ajusta o espaço entre título e imagens\n",
    "    plt.show()"
   ]
  },
  {
   "cell_type": "code",
   "execution_count": null,
   "metadata": {},
   "outputs": [],
   "source": [
    "# Definir cores para cada região\n",
    "color_map = {\n",
    "    \"Ventrículos\": [1, 0, 0],  # Vermelho\n",
    "    \"Córtex e outras regiões\": [0, 0, 1],  # Azul\n",
    "}\n",
    "\n",
    "for group_name, label_range in intervals.items():\n",
    "    fig, axes = plt.subplots(1, 7, figsize=(20, 5))\n",
    "\n",
    "    for i, z in enumerate(range(7)):\n",
    "        atlas_slice = data_atlas_slices[:, :, z]  # Máscara segmentada\n",
    "        patient_slice = data_patient_slices[:, :, z]  # Imagem original MRI\n",
    "\n",
    "        # Criar máscara binária para a região selecionada\n",
    "        mask = np.isin(atlas_slice, list(label_range)).astype(np.uint8)\n",
    "\n",
    "        # Criar máscara para evitar alterar o fundo\n",
    "        background_mask = patient_slice > 0  # True para pixels do cérebro, False para o fundo preto\n",
    "\n",
    "        # Criar imagem RGBA (com 4 canais: R, G, B, Alpha)\n",
    "        mask_rgba = np.zeros((*mask.shape, 4))  # Inicializa com fundo transparente\n",
    "\n",
    "        # Aplicar cor apenas nas regiões do cérebro, mantendo o fundo preto sem alteração\n",
    "        mask_rgba[(mask == 0) & background_mask, :3] = color_map[group_name]  # Define a cor (R, G, B)\n",
    "        mask_rgba[(mask == 0) & background_mask, 3] = 1.0  # Alpha = 1 (opaco) apenas nas regiões válidas\n",
    "\n",
    "        # Exibir a imagem original em escala de cinza\n",
    "        axes[i].imshow(patient_slice, cmap=\"gray\")\n",
    "\n",
    "        # Sobrepor a máscara (sem transparência nas regiões cobertas)\n",
    "        axes[i].imshow(mask_rgba)  \n",
    "\n",
    "        axes[i].set_title(f\"z = {z}\")\n",
    "        axes[i].axis(\"off\")\n",
    "\n",
    "    plt.suptitle(f\"Grupo: {group_name}\", fontsize=16)\n",
    "    plt.subplots_adjust(top=1.3)\n",
    "    plt.show()"
   ]
  },
  {
   "cell_type": "markdown",
   "metadata": {},
   "source": [
    "##### VISUALIZAR OCLUSÃO"
   ]
  },
  {
   "cell_type": "code",
   "execution_count": null,
   "metadata": {},
   "outputs": [],
   "source": [
    "print(mri_masked_dict.keys())\n",
    "\n",
    "#print(mri_masked_dict['Cérebro completo'].shape)\n",
    "print(mri_masked_dict['Córtex e outras regiões'].shape)\n",
    "print(mri_masked_dict['Ventrículos'].shape)\n",
    "\n",
    "print(data_patient_slices.shape)\n",
    "\n",
    "for item in mri_masked_dict:\n",
    "    plt.imshow(mri_masked_dict[item][:, :, 0], cmap='gray')\n",
    "    plt.title(item)\n",
    "    plt.show()"
   ]
  },
  {
   "cell_type": "markdown",
   "metadata": {},
   "source": [
    "##### PREDIZER OCLUSÃO"
   ]
  },
  {
   "cell_type": "code",
   "execution_count": null,
   "metadata": {},
   "outputs": [],
   "source": [
    "model_path = \"C:/Users/Team Taiane/Desktop/ADNI/FULL_ADNI/processed_7_slices_data/7_slices_axial/results/3d/axial_certo/test_5/binary_classifier_120_epochs_batch_64_5_classes.keras\"\n",
    "model = tf.keras.models.load_model(model_path)\n",
    "\n",
    "# Suponha que `data_patient` seja o MRI original\n",
    "original_image = np.expand_dims(patient_pred, axis=(0, -1))  # Adiciona batch e canal (1, H, W, D, 1)\n",
    "\n",
    "# Fazer a predição na imagem original\n",
    "original_pred = model.predict(original_image)[0]\n",
    "print(original_pred)\n",
    "\n",
    "# Armazenar resultados\n",
    "importance_map = {}\n",
    "\n",
    "# Iterar sobre cada versão ocluída do dicionário\n",
    "for region_name, occluded_mri in mri_masked_dict.items():\n",
    "    print(region_name)\n",
    "    occluded_image = np.expand_dims(occluded_mri, axis=(0, -1))  # Adicionar batch e canal\n",
    "\n",
    "    # Fazer predição na versão ocluída\n",
    "    occluded_pred = model.predict(occluded_image)[0]\n",
    "    print(occluded_pred)\n",
    "\n",
    "    # Calcular a diferença na predição\n",
    "    importance = np.abs(original_pred - occluded_pred)\n",
    "\n",
    "    # Armazenar a importância da região\n",
    "    importance_map[region_name] = importance\n",
    "\n",
    "    #print(f\"Região: {region_name} → Impacto na predição: {importance}\")\n",
    "\n",
    "print(f\"IMPORTANCIA:\\n\")\n",
    "for item in mri_masked_dict:\n",
    "    print(f\"{item}: {importance_map[item]}\")"
   ]
  }
 ],
 "metadata": {
  "kernelspec": {
   "display_name": "Python 3",
   "language": "python",
   "name": "python3"
  },
  "language_info": {
   "codemirror_mode": {
    "name": "ipython",
    "version": 3
   },
   "file_extension": ".py",
   "mimetype": "text/x-python",
   "name": "python",
   "nbconvert_exporter": "python",
   "pygments_lexer": "ipython3",
   "version": "3.12.7"
  }
 },
 "nbformat": 4,
 "nbformat_minor": 2
}
